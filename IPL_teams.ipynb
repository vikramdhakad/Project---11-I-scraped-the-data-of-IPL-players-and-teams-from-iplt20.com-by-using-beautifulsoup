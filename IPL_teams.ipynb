{
 "cells": [
  {
   "cell_type": "code",
   "execution_count": 6,
   "id": "0aacd5c4-0ed3-4db4-8c85-c09ddcf01d4d",
   "metadata": {},
   "outputs": [],
   "source": [
    "import pandas as pd\n",
    "from selenium import webdriver\n",
    "from selenium.webdriver.common.by import By\n",
    "from selenium.webdriver.chrome.service import Service\n",
    "from selenium.webdriver.chrome.options import Options\n",
    "from webdriver_manager.chrome import ChromeDriverManager\n",
    "from selenium.webdriver.common.action_chains import ActionChains\n",
    "from selenium.webdriver.common.keys import Keys\n",
    "from time import sleep"
   ]
  },
  {
   "cell_type": "code",
   "execution_count": 7,
   "id": "5e9d7c86-9b28-4189-9d3e-10da94c9cd20",
   "metadata": {},
   "outputs": [],
   "source": [
    "chrome_options = Options()\n",
    "chrome_options.add_experimental_option(\"detach\",True)\n",
    "\n",
    "driver = webdriver.Chrome(service=Service(ChromeDriverManager().install()),options=chrome_options)\n",
    "driver.get('https://www.iplt20.com/points-table/men/2023')\n",
    "sleep(3)\n",
    "driver.maximize_window()"
   ]
  },
  {
   "cell_type": "code",
   "execution_count": 8,
   "id": "cccafba1-90ee-4a0b-9667-efc3d5377f50",
   "metadata": {},
   "outputs": [],
   "source": [
    "cooki = driver.find_element(By.XPATH,\"//button[@class='cookie__accept cookie__accept_btn']\")\n",
    "cooki.click()"
   ]
  },
  {
   "cell_type": "code",
   "execution_count": 9,
   "id": "27c6f630-7ce3-41a4-8378-ff0f73f8dfa7",
   "metadata": {},
   "outputs": [],
   "source": [
    "names = []\n",
    "wins = []\n",
    "loses = []\n",
    "points = []\n",
    "for num in range(1,11):\n",
    "    name = driver.find_element(By.XPATH,\"(//h2[@class='ih-pt-cont mb-0 ng-binding'])[{}]\".format(str(num)))\n",
    "    win = driver.find_element(By.XPATH,\"(//td[@class='ng-binding'][2])[{}]\".format(str(num)))\n",
    "    lose = driver.find_element(By.XPATH,\"(//td[@class='ng-binding'][3])[{}]\".format(str(num)))\n",
    "    point = driver.find_element(By.XPATH,\"(//td[@class='bt ng-binding'])[{}]\".format(str(num)))\n",
    "\n",
    "    names.append(name.text)\n",
    "    wins.append(win.text)\n",
    "    loses.append(lose.text)\n",
    "    points.append(point.text)"
   ]
  },
  {
   "cell_type": "code",
   "execution_count": 10,
   "id": "21bfb582-cd16-4971-9377-eca95116a17f",
   "metadata": {},
   "outputs": [],
   "source": [
    "team = pd.DataFrame()\n",
    "team['Team Name'] = names\n",
    "team['Wins'] = wins\n",
    "team['Loses'] = loses\n",
    "team['Points'] = points"
   ]
  },
  {
   "cell_type": "code",
   "execution_count": 12,
   "id": "d29789f9-8933-427f-9fda-695bd18eec0d",
   "metadata": {},
   "outputs": [],
   "source": [
    "team.to_csv('Season 2023 IPL Teams ranking.csv')"
   ]
  },
  {
   "cell_type": "code",
   "execution_count": 13,
   "id": "0b69571e-a724-4bc2-83ae-d213110720f5",
   "metadata": {},
   "outputs": [],
   "source": [
    "driver.quit()"
   ]
  },
  {
   "cell_type": "code",
   "execution_count": null,
   "id": "da3c65a8-40d7-49e1-ad5e-d990efa5c7f6",
   "metadata": {},
   "outputs": [],
   "source": []
  }
 ],
 "metadata": {
  "kernelspec": {
   "display_name": "Python 3 (ipykernel)",
   "language": "python",
   "name": "python3"
  },
  "language_info": {
   "codemirror_mode": {
    "name": "ipython",
    "version": 3
   },
   "file_extension": ".py",
   "mimetype": "text/x-python",
   "name": "python",
   "nbconvert_exporter": "python",
   "pygments_lexer": "ipython3",
   "version": "3.12.2"
  }
 },
 "nbformat": 4,
 "nbformat_minor": 5
}
