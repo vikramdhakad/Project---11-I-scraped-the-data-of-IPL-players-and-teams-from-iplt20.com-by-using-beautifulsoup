{
 "cells": [
  {
   "cell_type": "code",
   "execution_count": 22,
   "id": "512080b5-5318-498b-87af-24c18ccd3d89",
   "metadata": {},
   "outputs": [],
   "source": [
    "import pandas as pd\n",
    "from selenium import webdriver\n",
    "from selenium.webdriver.common.by import By\n",
    "from selenium.webdriver.chrome.service import Service\n",
    "from selenium.webdriver.chrome.options import Options\n",
    "from webdriver_manager.chrome import ChromeDriverManager\n",
    "from selenium.webdriver.common.action_chains import ActionChains\n",
    "from selenium.webdriver.common.keys import Keys\n",
    "from time import sleep"
   ]
  },
  {
   "cell_type": "code",
   "execution_count": 23,
   "id": "de613f61-f101-4a64-b8da-813319589886",
   "metadata": {},
   "outputs": [],
   "source": [
    "chrome_options = Options()\n",
    "chrome_options.add_experimental_option(\"detach\",True)\n",
    "\n",
    "driver = webdriver.Chrome(service=Service(ChromeDriverManager().install()),options=chrome_options)\n",
    "driver.get('https://www.iplt20.com/stats/2023')\n",
    "sleep(3)\n",
    "driver.maximize_window()"
   ]
  },
  {
   "cell_type": "code",
   "execution_count": 24,
   "id": "71b5c491-3750-4612-8075-5aa50ba4eda2",
   "metadata": {},
   "outputs": [],
   "source": [
    "cooki = driver.find_element(By.XPATH,\"//button[@class='cookie__accept cookie__accept_btn']\")\n",
    "cooki.click()"
   ]
  },
  {
   "cell_type": "code",
   "execution_count": 25,
   "id": "b4c5c746-fc05-41bf-b3f1-d81b09738c43",
   "metadata": {},
   "outputs": [],
   "source": [
    "lst = driver.find_element(By.XPATH,\"(//a[@ng-click='showAllBattingStatsList()'])[1]\")\n",
    "lst.click()"
   ]
  },
  {
   "cell_type": "code",
   "execution_count": 47,
   "id": "643165f6-17cf-43bf-af4f-ae2ec025cd47",
   "metadata": {},
   "outputs": [],
   "source": [
    "name = []\n",
    "team = []\n",
    "match = []\n",
    "inns = []\n",
    "not_out = []\n",
    "runs = []\n",
    "high_score = []\n",
    "average = []\n",
    "for names in range(1,167):\n",
    "    nam = driver.find_element(By.XPATH,\"(//div[@class='st-ply-name ng-binding'])[{}]\".format(str(names)))\n",
    "    tem = driver.find_element(By.XPATH,\"(//div[@class='st-ply-tm-name ng-binding'])[{}]\".format(str(names)))\n",
    "    mat = driver.find_element(By.XPATH,\"(//td[@class='ng-binding'][2])[{}]\".format(str(names)))\n",
    "    ins = driver.find_element(By.XPATH,\"(//td[@class='ng-binding'][3])[{}]\".format(str(names)))\n",
    "    no_out = driver.find_element(By.XPATH,\"(//td[@class='ng-binding'][4])[{}]\".format(str(names)))\n",
    "    run = driver.find_element(By.XPATH,\"(//td[@class='ng-binding np-tableruns'])[{}]\".format(str(names)))\n",
    "    high_scores = driver.find_element(By.XPATH,\"(//td[@class='ng-binding'][5])[{}]\".format(str(names)))\n",
    "    avg = driver.find_element(By.XPATH,\"(//td[@class='ng-binding'][6])[{}]\".format(str(names)))\n",
    "\n",
    "    name.append(nam.text)\n",
    "    team.append(tem.text)\n",
    "    match.append(mat.text)\n",
    "    inns.append(ins.text)\n",
    "    not_out.append(no_out.text)\n",
    "    runs.append(run.text)\n",
    "    high_score.append(high_scores.text)\n",
    "    average.append(avg.text)"
   ]
  },
  {
   "cell_type": "code",
   "execution_count": 49,
   "id": "db9db87e-6b7b-47cf-8007-e3c3a5973485",
   "metadata": {},
   "outputs": [],
   "source": [
    "player = pd.DataFrame()\n",
    "player['Player Name'] = name\n",
    "player['Player Team'] = team\n",
    "player['Player Matches'] = match\n",
    "player['Innines'] = inns\n",
    "player['Not Out'] = not_out\n",
    "player['Total Runs'] = runs\n",
    "player['High Score'] = high_score\n",
    "player['AVG'] = average"
   ]
  },
  {
   "cell_type": "code",
   "execution_count": 53,
   "id": "dd734abd-a49c-4a1b-872b-41098323505e",
   "metadata": {},
   "outputs": [],
   "source": [
    "player.to_csv('Season_2023_IPL_Players_data.csv')"
   ]
  },
  {
   "cell_type": "code",
   "execution_count": 54,
   "id": "fbc308a2-c9ae-4111-9b3c-2f7b979c5d36",
   "metadata": {},
   "outputs": [],
   "source": [
    "driver.quit()"
   ]
  },
  {
   "cell_type": "code",
   "execution_count": null,
   "id": "78f3e2f8-e78f-46d8-a76e-51cd5c2659b1",
   "metadata": {},
   "outputs": [],
   "source": []
  }
 ],
 "metadata": {
  "kernelspec": {
   "display_name": "Python 3 (ipykernel)",
   "language": "python",
   "name": "python3"
  },
  "language_info": {
   "codemirror_mode": {
    "name": "ipython",
    "version": 3
   },
   "file_extension": ".py",
   "mimetype": "text/x-python",
   "name": "python",
   "nbconvert_exporter": "python",
   "pygments_lexer": "ipython3",
   "version": "3.12.2"
  }
 },
 "nbformat": 4,
 "nbformat_minor": 5
}
